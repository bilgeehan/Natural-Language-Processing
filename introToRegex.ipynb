{
  "nbformat": 4,
  "nbformat_minor": 0,
  "metadata": {
    "colab": {
      "provenance": [],
      "authorship_tag": "ABX9TyPtdj0zXPGvjN5BpWLLucmc",
      "include_colab_link": true
    },
    "kernelspec": {
      "name": "python3",
      "display_name": "Python 3"
    },
    "language_info": {
      "name": "python"
    }
  },
  "cells": [
    {
      "cell_type": "markdown",
      "metadata": {
        "id": "view-in-github",
        "colab_type": "text"
      },
      "source": [
        "<a href=\"https://colab.research.google.com/github/bilgeehan/Natural-Language-Processing/blob/main/introToRegex.ipynb\" target=\"_parent\"><img src=\"https://colab.research.google.com/assets/colab-badge.svg\" alt=\"Open In Colab\"/></a>"
      ]
    },
    {
      "cell_type": "markdown",
      "source": [
        "# **Regular Expressions (RegEx)**"
      ],
      "metadata": {
        "id": "i6JB6S2fkcP3"
      }
    },
    {
      "cell_type": "markdown",
      "source": [
        "## re.split()"
      ],
      "metadata": {
        "id": "NWcR9_aMNm8M"
      }
    },
    {
      "cell_type": "code",
      "execution_count": null,
      "metadata": {
        "id": "9nH8Gm7eLNIZ"
      },
      "outputs": [],
      "source": [
        "import re"
      ]
    },
    {
      "cell_type": "code",
      "source": [
        "str = \"uno-dos+tres#quatro cinco\" "
      ],
      "metadata": {
        "id": "6_S2siurZMTx"
      },
      "execution_count": null,
      "outputs": []
    },
    {
      "cell_type": "code",
      "source": [
        "result = print(re.split('\\W+',str))"
      ],
      "metadata": {
        "colab": {
          "base_uri": "https://localhost:8080/"
        },
        "id": "H2XNOn5qZT4y",
        "outputId": "a7dfc7df-a29b-4f57-bfb7-ff07108756f6"
      },
      "execution_count": null,
      "outputs": [
        {
          "output_type": "stream",
          "name": "stdout",
          "text": [
            "['uno', 'dos', 'tres', 'quatro', 'cinco']\n"
          ]
        }
      ]
    },
    {
      "cell_type": "markdown",
      "source": [
        "'\\W+' ->  '+' means keep searching, \n",
        "     '\\W' means any word character like letters, numbers, underscore"
      ],
      "metadata": {
        "id": "r_EPdDbcZ_MB"
      }
    },
    {
      "cell_type": "code",
      "source": [
        "num = 'one-two-three-four'\n",
        "result = print(re.split('[-+#]', num))"
      ],
      "metadata": {
        "colab": {
          "base_uri": "https://localhost:8080/"
        },
        "id": "SkDzNsXlNsAN",
        "outputId": "45ee1746-031e-4789-dc04-23ab4ac8580d"
      },
      "execution_count": null,
      "outputs": [
        {
          "output_type": "stream",
          "name": "stdout",
          "text": [
            "['one', 'two', 'three', 'four']\n"
          ]
        }
      ]
    },
    {
      "cell_type": "markdown",
      "source": [
        "## re.sub()"
      ],
      "metadata": {
        "id": "ozVtzxa5YWuZ"
      }
    },
    {
      "cell_type": "code",
      "source": [
        "substitute = 'one and two and three and four and five'\n",
        "result = re.sub(' ','-',substitute)\n",
        "print(result)"
      ],
      "metadata": {
        "colab": {
          "base_uri": "https://localhost:8080/"
        },
        "id": "K4sL7G_gYx9C",
        "outputId": "4d3063d7-c5a8-4074-9643-2294a6d58cd6"
      },
      "execution_count": null,
      "outputs": [
        {
          "output_type": "stream",
          "name": "stdout",
          "text": [
            "one-and-two-and-three-and-four-and-five\n"
          ]
        }
      ]
    },
    {
      "cell_type": "markdown",
      "source": [
        "## re.search()"
      ],
      "metadata": {
        "id": "-qGI7I9NZmNd"
      }
    },
    {
      "cell_type": "code",
      "source": [
        "arrSearching = ['nlp course', 'advanced']\n",
        "string = 'The best nlp course for beginners, with awesome practical projects'\n",
        "\n",
        "for item in arrSearching:\n",
        "  print ('Looking for '+ item + ' in '+ string)\n",
        "\n",
        "  if re.search(item, string):\n",
        "    print('Search Successful!!\\n ')\n",
        "  else: \n",
        "    print('We did not find anything')"
      ],
      "metadata": {
        "colab": {
          "base_uri": "https://localhost:8080/"
        },
        "id": "1EJ-VG83Zr3-",
        "outputId": "f43b2682-5cfa-4664-9f8d-22cf476d5657"
      },
      "execution_count": null,
      "outputs": [
        {
          "output_type": "stream",
          "name": "stdout",
          "text": [
            "Looking for nlp course in The best nlp course for beginners, with awesome practical projects\n",
            "Search Successful!!\n",
            " \n",
            "Looking for advanced in The best nlp course for beginners, with awesome practical projects\n",
            "We did not find anything\n"
          ]
        }
      ]
    },
    {
      "cell_type": "markdown",
      "source": [
        "## re.findall()"
      ],
      "metadata": {
        "id": "2TKTbdaabXkB"
      }
    },
    {
      "cell_type": "code",
      "source": [
        "contact_datas = \"Duke Richards 123-1233 duke@dukeemail.com Joe Denver 2020/JAN/05 joe@mrdenvergmail.com 2020/Dec/24 my_name77@hotmail.com John Black +4478564000\"\n",
        "emails = re.findall(r'[\\w\\.-]+@[\\w\\.-]+', contact_datas)\n",
        "\n",
        "for email in emails:\n",
        "  print(email)"
      ],
      "metadata": {
        "colab": {
          "base_uri": "https://localhost:8080/"
        },
        "id": "v_7RQo4EbCjX",
        "outputId": "3e6fc2d5-18a6-49f9-f773-f739938d28df"
      },
      "execution_count": null,
      "outputs": [
        {
          "output_type": "stream",
          "name": "stdout",
          "text": [
            "duke@dukeemail.com\n",
            "joe@mrdenvergmail.com\n",
            "my_name77@hotmail.com\n"
          ]
        }
      ]
    },
    {
      "cell_type": "markdown",
      "source": [
        "difference between findall and search is search returns first item but findall returns all of the items "
      ],
      "metadata": {
        "id": "x77v08h0bvCq"
      }
    },
    {
      "cell_type": "markdown",
      "source": [
        "# Removing StopWords"
      ],
      "metadata": {
        "id": "_zJ3aMJ6ffsh"
      }
    },
    {
      "cell_type": "code",
      "source": [
        "import nltk\n",
        "nltk.download('stopwords')\n",
        "nltk.download('punkt')\n"
      ],
      "metadata": {
        "colab": {
          "base_uri": "https://localhost:8080/"
        },
        "id": "p0fvvcCKf8pB",
        "outputId": "014ea434-6598-4298-e437-5a0e66d838ab"
      },
      "execution_count": 28,
      "outputs": [
        {
          "output_type": "stream",
          "name": "stderr",
          "text": [
            "[nltk_data] Downloading package stopwords to /root/nltk_data...\n",
            "[nltk_data]   Package stopwords is already up-to-date!\n",
            "[nltk_data] Downloading package punkt to /root/nltk_data...\n",
            "[nltk_data]   Unzipping tokenizers/punkt.zip.\n"
          ]
        },
        {
          "output_type": "execute_result",
          "data": {
            "text/plain": [
              "True"
            ]
          },
          "metadata": {},
          "execution_count": 28
        }
      ]
    },
    {
      "cell_type": "code",
      "source": [
        "stopwords = stopwords.words('english')\n",
        "print(stopwords)\n"
      ],
      "metadata": {
        "colab": {
          "base_uri": "https://localhost:8080/"
        },
        "id": "iu6O910igLU_",
        "outputId": "171d3f61-9541-445f-b9e1-c89d9924a3de"
      },
      "execution_count": 24,
      "outputs": [
        {
          "output_type": "stream",
          "name": "stdout",
          "text": [
            "['i', 'me', 'my', 'myself', 'we', 'our', 'ours', 'ourselves', 'you', \"you're\", \"you've\", \"you'll\", \"you'd\", 'your', 'yours', 'yourself', 'yourselves', 'he', 'him', 'his', 'himself', 'she', \"she's\", 'her', 'hers', 'herself', 'it', \"it's\", 'its', 'itself', 'they', 'them', 'their', 'theirs', 'themselves', 'what', 'which', 'who', 'whom', 'this', 'that', \"that'll\", 'these', 'those', 'am', 'is', 'are', 'was', 'were', 'be', 'been', 'being', 'have', 'has', 'had', 'having', 'do', 'does', 'did', 'doing', 'a', 'an', 'the', 'and', 'but', 'if', 'or', 'because', 'as', 'until', 'while', 'of', 'at', 'by', 'for', 'with', 'about', 'against', 'between', 'into', 'through', 'during', 'before', 'after', 'above', 'below', 'to', 'from', 'up', 'down', 'in', 'out', 'on', 'off', 'over', 'under', 'again', 'further', 'then', 'once', 'here', 'there', 'when', 'where', 'why', 'how', 'all', 'any', 'both', 'each', 'few', 'more', 'most', 'other', 'some', 'such', 'no', 'nor', 'not', 'only', 'own', 'same', 'so', 'than', 'too', 'very', 's', 't', 'can', 'will', 'just', 'don', \"don't\", 'should', \"should've\", 'now', 'd', 'll', 'm', 'o', 're', 've', 'y', 'ain', 'aren', \"aren't\", 'couldn', \"couldn't\", 'didn', \"didn't\", 'doesn', \"doesn't\", 'hadn', \"hadn't\", 'hasn', \"hasn't\", 'haven', \"haven't\", 'isn', \"isn't\", 'ma', 'mightn', \"mightn't\", 'mustn', \"mustn't\", 'needn', \"needn't\", 'shan', \"shan't\", 'shouldn', \"shouldn't\", 'wasn', \"wasn't\", 'weren', \"weren't\", 'won', \"won't\", 'wouldn', \"wouldn't\"]\n"
          ]
        }
      ]
    },
    {
      "cell_type": "markdown",
      "source": [
        "*These are stopwords. Stop Words are used for word that a search engine has been programmed to ignore like these*"
      ],
      "metadata": {
        "id": "gXvXoeTtggmI"
      }
    },
    {
      "cell_type": "code",
      "source": [
        "text = 'Fazıl Say is a Turkish pianist and composer who was born in Ankara, described recently as \"not merely a pianist of genius; but undoubtedly he will be one of the great artists of the twenty-first century\".'\n"
      ],
      "metadata": {
        "id": "LBWQa2xxhCDE"
      },
      "execution_count": 25,
      "outputs": []
    },
    {
      "cell_type": "code",
      "source": [
        "words = word_tokenize(text);\n",
        "\n",
        "filtered_words = []\n",
        "for word in words:\n",
        "    if word not in stopwords:\n",
        "        filtered_words.append(word)\n",
        "  "
      ],
      "metadata": {
        "id": "7ip8diOhhPxQ"
      },
      "execution_count": 31,
      "outputs": []
    },
    {
      "cell_type": "code",
      "source": [
        "print(filtered_words)"
      ],
      "metadata": {
        "colab": {
          "base_uri": "https://localhost:8080/"
        },
        "id": "gxZJ5pJlhika",
        "outputId": "6ffb1109-51d4-407d-a613-a346d91459f3"
      },
      "execution_count": 32,
      "outputs": [
        {
          "output_type": "stream",
          "name": "stdout",
          "text": [
            "['Fazıl', 'Say', 'Turkish', 'pianist', 'composer', 'born', 'Ankara', ',', 'described', 'recently', '``', 'merely', 'pianist', 'genius', ';', 'undoubtedly', 'one', 'great', 'artists', 'twenty-first', 'century', \"''\", '.']\n"
          ]
        }
      ]
    }
  ]
}