{
  "nbformat": 4,
  "nbformat_minor": 0,
  "metadata": {
    "colab": {
      "provenance": [],
      "authorship_tag": "ABX9TyMq2cU7/9MaPA6HR1xwinq/",
      "include_colab_link": true
    },
    "kernelspec": {
      "name": "python3",
      "display_name": "Python 3"
    },
    "language_info": {
      "name": "python"
    }
  },
  "cells": [
    {
      "cell_type": "markdown",
      "metadata": {
        "id": "view-in-github",
        "colab_type": "text"
      },
      "source": [
        "<a href=\"https://colab.research.google.com/github/bilgeehan/Natural-Language-Processing/blob/main/textPreprocessingOfTweets.ipynb\" target=\"_parent\"><img src=\"https://colab.research.google.com/assets/colab-badge.svg\" alt=\"Open In Colab\"/></a>"
      ]
    },
    {
      "cell_type": "markdown",
      "source": [
        "# Text Preprocessing"
      ],
      "metadata": {
        "id": "npWj8QHjiigv"
      }
    },
    {
      "cell_type": "code",
      "execution_count": 1,
      "metadata": {
        "colab": {
          "base_uri": "https://localhost:8080/"
        },
        "id": "57fd7GQrRPjL",
        "outputId": "234fe071-bbe7-4a45-8728-edf258dd54a5"
      },
      "outputs": [
        {
          "output_type": "stream",
          "name": "stderr",
          "text": [
            "[nltk_data] Downloading package stopwords to /root/nltk_data...\n",
            "[nltk_data]   Unzipping corpora/stopwords.zip.\n"
          ]
        }
      ],
      "source": [
        "import pandas as pd\n",
        "import re\n",
        "import nltk\n",
        "nltk.download('stopwords')\n",
        "from nltk.corpus import stopwords\n",
        "from nltk.tokenize import RegexpTokenizer"
      ]
    },
    {
      "cell_type": "markdown",
      "source": [
        "*We download the twitter csv data from drive and create dataframe*"
      ],
      "metadata": {
        "id": "fAxMeswxSMti"
      }
    },
    {
      "cell_type": "code",
      "source": [
        "!gdown --id 1oz1jxsmzY76CD21EdWtIxJLYHhbjAaHK\n"
      ],
      "metadata": {
        "colab": {
          "base_uri": "https://localhost:8080/"
        },
        "id": "SA30W2N_R37a",
        "outputId": "72da8edb-4cd4-47c1-faac-b23ad875e337"
      },
      "execution_count": 2,
      "outputs": [
        {
          "output_type": "stream",
          "name": "stdout",
          "text": [
            "/usr/local/lib/python3.9/dist-packages/gdown/cli.py:121: FutureWarning: Option `--id` was deprecated in version 4.3.1 and will be removed in 5.0. You don't need to pass it anymore to use a file ID.\n",
            "  warnings.warn(\n",
            "Downloading...\n",
            "From: https://drive.google.com/uc?id=1oz1jxsmzY76CD21EdWtIxJLYHhbjAaHK\n",
            "To: /content/Coachella-2015-2-DFE.csv\n",
            "100% 656k/656k [00:00<00:00, 87.7MB/s]\n"
          ]
        }
      ]
    },
    {
      "cell_type": "code",
      "source": [
        "df = pd.read_csv('Coachella-2015-2-DFE.csv', encoding=\"latin1\")\n",
        "df"
      ],
      "metadata": {
        "colab": {
          "base_uri": "https://localhost:8080/",
          "height": 850
        },
        "id": "_Si8GilFR9uT",
        "outputId": "d35b6838-b1e8-437c-b954-a4d9ba333738"
      },
      "execution_count": 3,
      "outputs": [
        {
          "output_type": "execute_result",
          "data": {
            "text/plain": [
              "     coachella_sentiment coachella_yn            name  retweet_count  \\\n",
              "0               positive          yes        kokombil              0   \n",
              "1               positive          yes   MisssTaraaa10              2   \n",
              "2               positive          yes   NMcCracken805              0   \n",
              "3               positive          yes          wxpnfm              1   \n",
              "4               positive          yes        Caesears              0   \n",
              "...                  ...          ...             ...            ...   \n",
              "3841           cant tell          yes   MissXOverdose              0   \n",
              "3842           cant tell          yes      NedRaggett              1   \n",
              "3843           cant tell          yes  nicolejackieee              0   \n",
              "3844           cant tell          yes    NiqueWobbitz              2   \n",
              "3845           cant tell          yes    LindsayRuben              1   \n",
              "\n",
              "                                                   text tweet_coord  \\\n",
              "0     #Coachella2015 tickets selling out in less tha...  [0.0, 0.0]   \n",
              "1     RT @sudsybuddy: WAIT THIS IS ABSOLUTE FIRE _ÙÓ...         NaN   \n",
              "2     #Coachella2015 #VIP passes secured! See you th...         NaN   \n",
              "3     PhillyÛªs @warondrugsjams will play #Coachell...         NaN   \n",
              "4     If briana and her mom out to #Coachella2015  i...         NaN   \n",
              "...                                                 ...         ...   \n",
              "3841  Excuse me while I go cry now. _Ù÷¢ #Coachella2...         NaN   \n",
              "3842  RT @touchofallright: Ride and Steely Dan. It w...         NaN   \n",
              "3843  I've been callin that since day one #Coachella...         NaN   \n",
              "3844  Is this for real?!?! #Coachella2015 http://t.c...         NaN   \n",
              "3845  RT @Jen_Baz: C'monnnnnn lineup! #coachella2015...         NaN   \n",
              "\n",
              "     tweet_created      tweet_id                  tweet_location  \\\n",
              "0     1/7/15 15:02  5.529630e+17                             NaN   \n",
              "1     1/7/15 15:02  5.529630e+17                   united states   \n",
              "2     1/7/15 15:01  5.529630e+17                  Costa Mesa, CA   \n",
              "3     1/7/15 15:01  5.529630e+17  Philadelphia, PA and Worldwide   \n",
              "4     1/7/15 15:00  5.529630e+17                             NaN   \n",
              "...            ...           ...                             ...   \n",
              "3841  1/6/15 10:32  5.525330e+17                             atx   \n",
              "3842  1/6/15 10:28  5.525320e+17                  Costa Mesa, CA   \n",
              "3843  1/6/15 10:26  5.525320e+17                             NaN   \n",
              "3844  1/6/15 10:21  5.525300e+17   Huntington Beach X Long Beach   \n",
              "3845   1/6/15 6:44  5.524760e+17                             NaN   \n",
              "\n",
              "                   user_timezone  \n",
              "0                          Quito  \n",
              "1                            NaN  \n",
              "2                            NaN  \n",
              "3                          Quito  \n",
              "4                            NaN  \n",
              "...                          ...  \n",
              "3841  Pacific Time (US & Canada)  \n",
              "3842  Pacific Time (US & Canada)  \n",
              "3843                         NaN  \n",
              "3844  Pacific Time (US & Canada)  \n",
              "3845                         NaN  \n",
              "\n",
              "[3846 rows x 10 columns]"
            ],
            "text/html": [
              "\n",
              "  <div id=\"df-324aca88-0479-4bd9-819c-4b156fceabc7\">\n",
              "    <div class=\"colab-df-container\">\n",
              "      <div>\n",
              "<style scoped>\n",
              "    .dataframe tbody tr th:only-of-type {\n",
              "        vertical-align: middle;\n",
              "    }\n",
              "\n",
              "    .dataframe tbody tr th {\n",
              "        vertical-align: top;\n",
              "    }\n",
              "\n",
              "    .dataframe thead th {\n",
              "        text-align: right;\n",
              "    }\n",
              "</style>\n",
              "<table border=\"1\" class=\"dataframe\">\n",
              "  <thead>\n",
              "    <tr style=\"text-align: right;\">\n",
              "      <th></th>\n",
              "      <th>coachella_sentiment</th>\n",
              "      <th>coachella_yn</th>\n",
              "      <th>name</th>\n",
              "      <th>retweet_count</th>\n",
              "      <th>text</th>\n",
              "      <th>tweet_coord</th>\n",
              "      <th>tweet_created</th>\n",
              "      <th>tweet_id</th>\n",
              "      <th>tweet_location</th>\n",
              "      <th>user_timezone</th>\n",
              "    </tr>\n",
              "  </thead>\n",
              "  <tbody>\n",
              "    <tr>\n",
              "      <th>0</th>\n",
              "      <td>positive</td>\n",
              "      <td>yes</td>\n",
              "      <td>kokombil</td>\n",
              "      <td>0</td>\n",
              "      <td>#Coachella2015 tickets selling out in less tha...</td>\n",
              "      <td>[0.0, 0.0]</td>\n",
              "      <td>1/7/15 15:02</td>\n",
              "      <td>5.529630e+17</td>\n",
              "      <td>NaN</td>\n",
              "      <td>Quito</td>\n",
              "    </tr>\n",
              "    <tr>\n",
              "      <th>1</th>\n",
              "      <td>positive</td>\n",
              "      <td>yes</td>\n",
              "      <td>MisssTaraaa10</td>\n",
              "      <td>2</td>\n",
              "      <td>RT @sudsybuddy: WAIT THIS IS ABSOLUTE FIRE _ÙÓ...</td>\n",
              "      <td>NaN</td>\n",
              "      <td>1/7/15 15:02</td>\n",
              "      <td>5.529630e+17</td>\n",
              "      <td>united states</td>\n",
              "      <td>NaN</td>\n",
              "    </tr>\n",
              "    <tr>\n",
              "      <th>2</th>\n",
              "      <td>positive</td>\n",
              "      <td>yes</td>\n",
              "      <td>NMcCracken805</td>\n",
              "      <td>0</td>\n",
              "      <td>#Coachella2015 #VIP passes secured! See you th...</td>\n",
              "      <td>NaN</td>\n",
              "      <td>1/7/15 15:01</td>\n",
              "      <td>5.529630e+17</td>\n",
              "      <td>Costa Mesa, CA</td>\n",
              "      <td>NaN</td>\n",
              "    </tr>\n",
              "    <tr>\n",
              "      <th>3</th>\n",
              "      <td>positive</td>\n",
              "      <td>yes</td>\n",
              "      <td>wxpnfm</td>\n",
              "      <td>1</td>\n",
              "      <td>PhillyÛªs @warondrugsjams will play #Coachell...</td>\n",
              "      <td>NaN</td>\n",
              "      <td>1/7/15 15:01</td>\n",
              "      <td>5.529630e+17</td>\n",
              "      <td>Philadelphia, PA and Worldwide</td>\n",
              "      <td>Quito</td>\n",
              "    </tr>\n",
              "    <tr>\n",
              "      <th>4</th>\n",
              "      <td>positive</td>\n",
              "      <td>yes</td>\n",
              "      <td>Caesears</td>\n",
              "      <td>0</td>\n",
              "      <td>If briana and her mom out to #Coachella2015  i...</td>\n",
              "      <td>NaN</td>\n",
              "      <td>1/7/15 15:00</td>\n",
              "      <td>5.529630e+17</td>\n",
              "      <td>NaN</td>\n",
              "      <td>NaN</td>\n",
              "    </tr>\n",
              "    <tr>\n",
              "      <th>...</th>\n",
              "      <td>...</td>\n",
              "      <td>...</td>\n",
              "      <td>...</td>\n",
              "      <td>...</td>\n",
              "      <td>...</td>\n",
              "      <td>...</td>\n",
              "      <td>...</td>\n",
              "      <td>...</td>\n",
              "      <td>...</td>\n",
              "      <td>...</td>\n",
              "    </tr>\n",
              "    <tr>\n",
              "      <th>3841</th>\n",
              "      <td>cant tell</td>\n",
              "      <td>yes</td>\n",
              "      <td>MissXOverdose</td>\n",
              "      <td>0</td>\n",
              "      <td>Excuse me while I go cry now. _Ù÷¢ #Coachella2...</td>\n",
              "      <td>NaN</td>\n",
              "      <td>1/6/15 10:32</td>\n",
              "      <td>5.525330e+17</td>\n",
              "      <td>atx</td>\n",
              "      <td>Pacific Time (US &amp; Canada)</td>\n",
              "    </tr>\n",
              "    <tr>\n",
              "      <th>3842</th>\n",
              "      <td>cant tell</td>\n",
              "      <td>yes</td>\n",
              "      <td>NedRaggett</td>\n",
              "      <td>1</td>\n",
              "      <td>RT @touchofallright: Ride and Steely Dan. It w...</td>\n",
              "      <td>NaN</td>\n",
              "      <td>1/6/15 10:28</td>\n",
              "      <td>5.525320e+17</td>\n",
              "      <td>Costa Mesa, CA</td>\n",
              "      <td>Pacific Time (US &amp; Canada)</td>\n",
              "    </tr>\n",
              "    <tr>\n",
              "      <th>3843</th>\n",
              "      <td>cant tell</td>\n",
              "      <td>yes</td>\n",
              "      <td>nicolejackieee</td>\n",
              "      <td>0</td>\n",
              "      <td>I've been callin that since day one #Coachella...</td>\n",
              "      <td>NaN</td>\n",
              "      <td>1/6/15 10:26</td>\n",
              "      <td>5.525320e+17</td>\n",
              "      <td>NaN</td>\n",
              "      <td>NaN</td>\n",
              "    </tr>\n",
              "    <tr>\n",
              "      <th>3844</th>\n",
              "      <td>cant tell</td>\n",
              "      <td>yes</td>\n",
              "      <td>NiqueWobbitz</td>\n",
              "      <td>2</td>\n",
              "      <td>Is this for real?!?! #Coachella2015 http://t.c...</td>\n",
              "      <td>NaN</td>\n",
              "      <td>1/6/15 10:21</td>\n",
              "      <td>5.525300e+17</td>\n",
              "      <td>Huntington Beach X Long Beach</td>\n",
              "      <td>Pacific Time (US &amp; Canada)</td>\n",
              "    </tr>\n",
              "    <tr>\n",
              "      <th>3845</th>\n",
              "      <td>cant tell</td>\n",
              "      <td>yes</td>\n",
              "      <td>LindsayRuben</td>\n",
              "      <td>1</td>\n",
              "      <td>RT @Jen_Baz: C'monnnnnn lineup! #coachella2015...</td>\n",
              "      <td>NaN</td>\n",
              "      <td>1/6/15 6:44</td>\n",
              "      <td>5.524760e+17</td>\n",
              "      <td>NaN</td>\n",
              "      <td>NaN</td>\n",
              "    </tr>\n",
              "  </tbody>\n",
              "</table>\n",
              "<p>3846 rows × 10 columns</p>\n",
              "</div>\n",
              "      <button class=\"colab-df-convert\" onclick=\"convertToInteractive('df-324aca88-0479-4bd9-819c-4b156fceabc7')\"\n",
              "              title=\"Convert this dataframe to an interactive table.\"\n",
              "              style=\"display:none;\">\n",
              "        \n",
              "  <svg xmlns=\"http://www.w3.org/2000/svg\" height=\"24px\"viewBox=\"0 0 24 24\"\n",
              "       width=\"24px\">\n",
              "    <path d=\"M0 0h24v24H0V0z\" fill=\"none\"/>\n",
              "    <path d=\"M18.56 5.44l.94 2.06.94-2.06 2.06-.94-2.06-.94-.94-2.06-.94 2.06-2.06.94zm-11 1L8.5 8.5l.94-2.06 2.06-.94-2.06-.94L8.5 2.5l-.94 2.06-2.06.94zm10 10l.94 2.06.94-2.06 2.06-.94-2.06-.94-.94-2.06-.94 2.06-2.06.94z\"/><path d=\"M17.41 7.96l-1.37-1.37c-.4-.4-.92-.59-1.43-.59-.52 0-1.04.2-1.43.59L10.3 9.45l-7.72 7.72c-.78.78-.78 2.05 0 2.83L4 21.41c.39.39.9.59 1.41.59.51 0 1.02-.2 1.41-.59l7.78-7.78 2.81-2.81c.8-.78.8-2.07 0-2.86zM5.41 20L4 18.59l7.72-7.72 1.47 1.35L5.41 20z\"/>\n",
              "  </svg>\n",
              "      </button>\n",
              "      \n",
              "  <style>\n",
              "    .colab-df-container {\n",
              "      display:flex;\n",
              "      flex-wrap:wrap;\n",
              "      gap: 12px;\n",
              "    }\n",
              "\n",
              "    .colab-df-convert {\n",
              "      background-color: #E8F0FE;\n",
              "      border: none;\n",
              "      border-radius: 50%;\n",
              "      cursor: pointer;\n",
              "      display: none;\n",
              "      fill: #1967D2;\n",
              "      height: 32px;\n",
              "      padding: 0 0 0 0;\n",
              "      width: 32px;\n",
              "    }\n",
              "\n",
              "    .colab-df-convert:hover {\n",
              "      background-color: #E2EBFA;\n",
              "      box-shadow: 0px 1px 2px rgba(60, 64, 67, 0.3), 0px 1px 3px 1px rgba(60, 64, 67, 0.15);\n",
              "      fill: #174EA6;\n",
              "    }\n",
              "\n",
              "    [theme=dark] .colab-df-convert {\n",
              "      background-color: #3B4455;\n",
              "      fill: #D2E3FC;\n",
              "    }\n",
              "\n",
              "    [theme=dark] .colab-df-convert:hover {\n",
              "      background-color: #434B5C;\n",
              "      box-shadow: 0px 1px 3px 1px rgba(0, 0, 0, 0.15);\n",
              "      filter: drop-shadow(0px 1px 2px rgba(0, 0, 0, 0.3));\n",
              "      fill: #FFFFFF;\n",
              "    }\n",
              "  </style>\n",
              "\n",
              "      <script>\n",
              "        const buttonEl =\n",
              "          document.querySelector('#df-324aca88-0479-4bd9-819c-4b156fceabc7 button.colab-df-convert');\n",
              "        buttonEl.style.display =\n",
              "          google.colab.kernel.accessAllowed ? 'block' : 'none';\n",
              "\n",
              "        async function convertToInteractive(key) {\n",
              "          const element = document.querySelector('#df-324aca88-0479-4bd9-819c-4b156fceabc7');\n",
              "          const dataTable =\n",
              "            await google.colab.kernel.invokeFunction('convertToInteractive',\n",
              "                                                     [key], {});\n",
              "          if (!dataTable) return;\n",
              "\n",
              "          const docLinkHtml = 'Like what you see? Visit the ' +\n",
              "            '<a target=\"_blank\" href=https://colab.research.google.com/notebooks/data_table.ipynb>data table notebook</a>'\n",
              "            + ' to learn more about interactive tables.';\n",
              "          element.innerHTML = '';\n",
              "          dataTable['output_type'] = 'display_data';\n",
              "          await google.colab.output.renderOutput(dataTable, element);\n",
              "          const docLink = document.createElement('div');\n",
              "          docLink.innerHTML = docLinkHtml;\n",
              "          element.appendChild(docLink);\n",
              "        }\n",
              "      </script>\n",
              "    </div>\n",
              "  </div>\n",
              "  "
            ]
          },
          "metadata": {},
          "execution_count": 3
        }
      ]
    },
    {
      "cell_type": "code",
      "source": [
        "print(df['text'][1])\n",
        "print(df['text'][2])\n",
        "print(df['text'][3])\n"
      ],
      "metadata": {
        "colab": {
          "base_uri": "https://localhost:8080/"
        },
        "id": "Jm_GrtT0aOkS",
        "outputId": "f2da9e43-3408-4fc3-bbbc-45738ebef26d"
      },
      "execution_count": 5,
      "outputs": [
        {
          "output_type": "stream",
          "name": "stdout",
          "text": [
            "RT @sudsybuddy: WAIT THIS IS ABSOLUTE FIRE _ÙÓ´_ÙÓ´_ÙÓ´ #Coachella2015 http://t.co/Ov2eCJtAvR\n",
            "#Coachella2015 #VIP passes secured! See you there bitchesssss\n",
            "PhillyÛªs @warondrugsjams will play #Coachella2015 &amp; #GovBall2015! Watch them on Jimmy Fallon: http://t.co/wzaAE5wYNT http://t.co/sFL9I5sD20\n"
          ]
        }
      ]
    },
    {
      "cell_type": "markdown",
      "source": [
        "## Finding Hashtags Function [Regex CheetSheet](https://www.rexegg.com/regex-quickstart.html)"
      ],
      "metadata": {
        "id": "TQlHlvPXbEZu"
      }
    },
    {
      "cell_type": "code",
      "source": [
        "def hashtags(text):\n",
        "  hash = re.findall(r\"#(\\w+)\", text)\n",
        "  return hash"
      ],
      "metadata": {
        "id": "SXVkREVhbNUw"
      },
      "execution_count": 7,
      "outputs": []
    },
    {
      "cell_type": "markdown",
      "source": [
        "*r\"#(\\w+)\" means that find all rows (r means take the row and usually using on filtering) which starts with hashtag(\\w means word character)*"
      ],
      "metadata": {
        "id": "VI2qL_32f-qq"
      }
    },
    {
      "cell_type": "code",
      "source": [
        "sampletweet = '#covid2020 #vaccines are being made #2020'\n",
        "print(hashtags(sampletweet))"
      ],
      "metadata": {
        "colab": {
          "base_uri": "https://localhost:8080/"
        },
        "id": "PYCm1psIh4_e",
        "outputId": "6712757d-b8ea-40ed-e895-97cd34bbc6fd"
      },
      "execution_count": 9,
      "outputs": [
        {
          "output_type": "stream",
          "name": "stdout",
          "text": [
            "['covid2020', 'vaccines', '2020']\n"
          ]
        }
      ]
    },
    {
      "cell_type": "markdown",
      "source": [
        "## Removing Retweet Username and Tweeted at @username"
      ],
      "metadata": {
        "id": "JT2ndaYQi1fX"
      }
    },
    {
      "cell_type": "code",
      "source": [
        "def remove_users(tweet):\n",
        "    tweet = re.sub('(@[A-Za-z]+[A-Za-z0-9-_]+)', '', tweet) \n",
        "    return tweet"
      ],
      "metadata": {
        "id": "fJDgs7YFjIoA"
      },
      "execution_count": 18,
      "outputs": []
    },
    {
      "cell_type": "markdown",
      "source": [
        "*find word that starts with @ and replace it with null string (that means delete it)*"
      ],
      "metadata": {
        "id": "v9v_eLEemxGo"
      }
    },
    {
      "cell_type": "code",
      "source": [
        "sampletweet = '@twitteruser I love Game of Thrones!'\n",
        "print(remove_users(sampletweet))"
      ],
      "metadata": {
        "colab": {
          "base_uri": "https://localhost:8080/"
        },
        "id": "_sT1YxZcjUk7",
        "outputId": "0ebffd20-fa30-4635-8193-fef0225b84a9"
      },
      "execution_count": 19,
      "outputs": [
        {
          "output_type": "stream",
          "name": "stdout",
          "text": [
            " I love Game of Thrones!\n"
          ]
        }
      ]
    },
    {
      "cell_type": "markdown",
      "source": [
        "## Remove links"
      ],
      "metadata": {
        "id": "evXNtACdoVCq"
      }
    },
    {
      "cell_type": "code",
      "source": [
        "def remove_links(tweet):\n",
        "    tweet = re.sub(r'http\\S+', '', tweet) # delete http links\n",
        "    tweet = re.sub(r'bit.ly/\\S+', '', tweet) # delete bitly links\n",
        "    return tweet"
      ],
      "metadata": {
        "id": "VbD23NzOocL_"
      },
      "execution_count": 20,
      "outputs": []
    },
    {
      "cell_type": "code",
      "source": [
        "sampletweet = 'IMDB Webpage for Game of Thrones: https://www.imdb.com/title/tt0944947/'\n",
        "print(remove_links(sampletweet))"
      ],
      "metadata": {
        "colab": {
          "base_uri": "https://localhost:8080/"
        },
        "id": "YbVWeRCpoqNJ",
        "outputId": "a0834cae-ae98-43aa-c5f7-3ac6846082da"
      },
      "execution_count": 21,
      "outputs": [
        {
          "output_type": "stream",
          "name": "stdout",
          "text": [
            "IMDB Webpage for Game of Thrones: \n"
          ]
        }
      ]
    },
    {
      "cell_type": "markdown",
      "source": [
        "## Remove non-ascii chars"
      ],
      "metadata": {
        "id": "0FzWzjoOpgVT"
      }
    },
    {
      "cell_type": "code",
      "source": [
        "def non_ascii(s):\n",
        "  s = s.lower()\n",
        "  return \"\".join(i for i in s if ord(i)<128)\n"
      ],
      "metadata": {
        "id": "a-NXa3VSpiHs"
      },
      "execution_count": 29,
      "outputs": []
    },
    {
      "cell_type": "code",
      "source": [
        "sampletext = 'THIS text  includes NON ascii characters like ¡, ¢, © and ®.'\n",
        "print(non_ascii(sampletext))"
      ],
      "metadata": {
        "colab": {
          "base_uri": "https://localhost:8080/"
        },
        "id": "SnNNBmV0qDkT",
        "outputId": "a69e52a3-c988-4255-c9fb-45992ab3dc5b"
      },
      "execution_count": 30,
      "outputs": [
        {
          "output_type": "stream",
          "name": "stdout",
          "text": [
            "this text  includes non ascii characters like , ,  and .\n"
          ]
        }
      ]
    },
    {
      "cell_type": "markdown",
      "source": [
        "## Stopwords"
      ],
      "metadata": {
        "id": "TaPTVWH3qdXE"
      }
    },
    {
      "cell_type": "code",
      "source": [
        "def removeStopWords(str):\n",
        "  cachedStopWords = set(stopwords.words(\"english\"))\n",
        "  new_str = ' '.join([word for word in str.split() if word not in cachedStopWords]) \n",
        "  return new_str"
      ],
      "metadata": {
        "id": "7EGNctd1qgO6"
      },
      "execution_count": 37,
      "outputs": []
    },
    {
      "cell_type": "code",
      "source": [
        "sampletweet = 'i love this concert and i do not want to leave. is love urs #music.'\n",
        "print(removeStopWords (sampletweet))"
      ],
      "metadata": {
        "colab": {
          "base_uri": "https://localhost:8080/"
        },
        "id": "9yLzNdb7qn-P",
        "outputId": "ccf603c6-a79a-4dfa-a7fd-04d3e66b9958"
      },
      "execution_count": 38,
      "outputs": [
        {
          "output_type": "stream",
          "name": "stdout",
          "text": [
            "love concert want leave. love urs #music.\n"
          ]
        }
      ]
    },
    {
      "cell_type": "markdown",
      "source": [
        "## Remove Email addresses and Punctuation"
      ],
      "metadata": {
        "id": "Jqq87rViuMY3"
      }
    },
    {
      "cell_type": "code",
      "source": [
        "def email_address(text):\n",
        "  email = re.compile(r'[\\w\\.-]+@[\\w\\.-]+')\n",
        "  return email.sub(r'',text)\n",
        "\n",
        "def punct(text):\n",
        "  token=RegexpTokenizer(r'\\w+')#regex\n",
        "  text = token.tokenize(text)\n",
        "  text= \" \".join(text)\n",
        "  return text "
      ],
      "metadata": {
        "id": "Tbi-svYVuPP8"
      },
      "execution_count": 39,
      "outputs": []
    },
    {
      "cell_type": "code",
      "source": [
        "sampleemail = \"#order customer service #contact contact1990@gmail.com\"\n",
        "email_address(sampleemail) "
      ],
      "metadata": {
        "colab": {
          "base_uri": "https://localhost:8080/",
          "height": 35
        },
        "id": "nKx1o15zvAhx",
        "outputId": "fcdebed8-4764-4b1c-efaf-29d104decf68"
      },
      "execution_count": 40,
      "outputs": [
        {
          "output_type": "execute_result",
          "data": {
            "text/plain": [
              "'#order customer service #contact '"
            ],
            "application/vnd.google.colaboratory.intrinsic+json": {
              "type": "string"
            }
          },
          "metadata": {},
          "execution_count": 40
        }
      ]
    },
    {
      "cell_type": "code",
      "source": [
        "sampletext=\"we're going to a party, are you going?\"\n",
        "punct(sampletext)"
      ],
      "metadata": {
        "colab": {
          "base_uri": "https://localhost:8080/",
          "height": 35
        },
        "id": "OZ_-xwXVvDjE",
        "outputId": "7cbd54c1-7300-41e2-ab39-e56e405d7502"
      },
      "execution_count": 41,
      "outputs": [
        {
          "output_type": "execute_result",
          "data": {
            "text/plain": [
              "'we re going to a party are you going'"
            ],
            "application/vnd.google.colaboratory.intrinsic+json": {
              "type": "string"
            }
          },
          "metadata": {},
          "execution_count": 41
        }
      ]
    },
    {
      "cell_type": "markdown",
      "source": [
        "## Remove Digits and Special Characters"
      ],
      "metadata": {
        "id": "6KR22GsGvOw7"
      }
    },
    {
      "cell_type": "code",
      "source": [
        "def remove_digits(text):\n",
        "    pattern = r'[^a-zA-z.,!?/:;\\\"\\'\\s]' \n",
        "    return re.sub(pattern, '', text)\n",
        "\n",
        "def remove_special_characters(text):\n",
        "    # define the pattern to keep\n",
        "    pat = r'[^a-zA-z0-9.,!?/:;\\\"\\'\\s]' \n",
        "    return re.sub(pat, '', text)"
      ],
      "metadata": {
        "id": "V0exw43hvIno"
      },
      "execution_count": 42,
      "outputs": []
    },
    {
      "cell_type": "code",
      "source": [
        "sample=\"number 5 and 7 were great!\"\n",
        "remove_digits(sample)"
      ],
      "metadata": {
        "colab": {
          "base_uri": "https://localhost:8080/",
          "height": 35
        },
        "id": "Kh8vH1sDvQvb",
        "outputId": "a431cd64-3e35-4303-9b91-84608c34c286"
      },
      "execution_count": 43,
      "outputs": [
        {
          "output_type": "execute_result",
          "data": {
            "text/plain": [
              "'number  and  were great!'"
            ],
            "application/vnd.google.colaboratory.intrinsic+json": {
              "type": "string"
            }
          },
          "metadata": {},
          "execution_count": 43
        }
      ]
    },
    {
      "cell_type": "code",
      "source": [
        "sample_special=\"oh vow! i saw stars ************** it was great!! #great and it only costed $3\"\n",
        "remove_special_characters(sample_special)"
      ],
      "metadata": {
        "colab": {
          "base_uri": "https://localhost:8080/",
          "height": 35
        },
        "id": "swaE16uxvbFV",
        "outputId": "d707e4ff-6815-41dc-edbf-a04c397976a4"
      },
      "execution_count": 44,
      "outputs": [
        {
          "output_type": "execute_result",
          "data": {
            "text/plain": [
              "'oh vow! i saw stars  it was great!! great and it only costed 3'"
            ],
            "application/vnd.google.colaboratory.intrinsic+json": {
              "type": "string"
            }
          },
          "metadata": {},
          "execution_count": 44
        }
      ]
    },
    {
      "cell_type": "markdown",
      "source": [
        "## Edit Data Frame"
      ],
      "metadata": {
        "id": "eN6Vd2xZwiCb"
      }
    },
    {
      "cell_type": "code",
      "source": [
        "df['hashtag'] = df.text.apply(func = hashtags)\n",
        "df.tail()"
      ],
      "metadata": {
        "colab": {
          "base_uri": "https://localhost:8080/",
          "height": 496
        },
        "id": "CnCHQLVlwXgW",
        "outputId": "6f2a52cd-7e44-450c-b4b2-e4da4a1425db"
      },
      "execution_count": 45,
      "outputs": [
        {
          "output_type": "execute_result",
          "data": {
            "text/plain": [
              "     coachella_sentiment coachella_yn            name  retweet_count  \\\n",
              "3841           cant tell          yes   MissXOverdose              0   \n",
              "3842           cant tell          yes      NedRaggett              1   \n",
              "3843           cant tell          yes  nicolejackieee              0   \n",
              "3844           cant tell          yes    NiqueWobbitz              2   \n",
              "3845           cant tell          yes    LindsayRuben              1   \n",
              "\n",
              "                                                   text tweet_coord  \\\n",
              "3841  Excuse me while I go cry now. _Ù÷¢ #Coachella2...         NaN   \n",
              "3842  RT @touchofallright: Ride and Steely Dan. It w...         NaN   \n",
              "3843  I've been callin that since day one #Coachella...         NaN   \n",
              "3844  Is this for real?!?! #Coachella2015 http://t.c...         NaN   \n",
              "3845  RT @Jen_Baz: C'monnnnnn lineup! #coachella2015...         NaN   \n",
              "\n",
              "     tweet_created      tweet_id                 tweet_location  \\\n",
              "3841  1/6/15 10:32  5.525330e+17                            atx   \n",
              "3842  1/6/15 10:28  5.525320e+17                 Costa Mesa, CA   \n",
              "3843  1/6/15 10:26  5.525320e+17                            NaN   \n",
              "3844  1/6/15 10:21  5.525300e+17  Huntington Beach X Long Beach   \n",
              "3845   1/6/15 6:44  5.524760e+17                            NaN   \n",
              "\n",
              "                   user_timezone                     hashtag  \n",
              "3841  Pacific Time (US & Canada)             [Coachella2015]  \n",
              "3842  Pacific Time (US & Canada)             [Coachella2015]  \n",
              "3843                         NaN             [Coachella2015]  \n",
              "3844  Pacific Time (US & Canada)             [Coachella2015]  \n",
              "3845                         NaN  [coachella2015, Impatient]  "
            ],
            "text/html": [
              "\n",
              "  <div id=\"df-ece3633c-38c8-4b62-85eb-bcf1465d35b8\">\n",
              "    <div class=\"colab-df-container\">\n",
              "      <div>\n",
              "<style scoped>\n",
              "    .dataframe tbody tr th:only-of-type {\n",
              "        vertical-align: middle;\n",
              "    }\n",
              "\n",
              "    .dataframe tbody tr th {\n",
              "        vertical-align: top;\n",
              "    }\n",
              "\n",
              "    .dataframe thead th {\n",
              "        text-align: right;\n",
              "    }\n",
              "</style>\n",
              "<table border=\"1\" class=\"dataframe\">\n",
              "  <thead>\n",
              "    <tr style=\"text-align: right;\">\n",
              "      <th></th>\n",
              "      <th>coachella_sentiment</th>\n",
              "      <th>coachella_yn</th>\n",
              "      <th>name</th>\n",
              "      <th>retweet_count</th>\n",
              "      <th>text</th>\n",
              "      <th>tweet_coord</th>\n",
              "      <th>tweet_created</th>\n",
              "      <th>tweet_id</th>\n",
              "      <th>tweet_location</th>\n",
              "      <th>user_timezone</th>\n",
              "      <th>hashtag</th>\n",
              "    </tr>\n",
              "  </thead>\n",
              "  <tbody>\n",
              "    <tr>\n",
              "      <th>3841</th>\n",
              "      <td>cant tell</td>\n",
              "      <td>yes</td>\n",
              "      <td>MissXOverdose</td>\n",
              "      <td>0</td>\n",
              "      <td>Excuse me while I go cry now. _Ù÷¢ #Coachella2...</td>\n",
              "      <td>NaN</td>\n",
              "      <td>1/6/15 10:32</td>\n",
              "      <td>5.525330e+17</td>\n",
              "      <td>atx</td>\n",
              "      <td>Pacific Time (US &amp; Canada)</td>\n",
              "      <td>[Coachella2015]</td>\n",
              "    </tr>\n",
              "    <tr>\n",
              "      <th>3842</th>\n",
              "      <td>cant tell</td>\n",
              "      <td>yes</td>\n",
              "      <td>NedRaggett</td>\n",
              "      <td>1</td>\n",
              "      <td>RT @touchofallright: Ride and Steely Dan. It w...</td>\n",
              "      <td>NaN</td>\n",
              "      <td>1/6/15 10:28</td>\n",
              "      <td>5.525320e+17</td>\n",
              "      <td>Costa Mesa, CA</td>\n",
              "      <td>Pacific Time (US &amp; Canada)</td>\n",
              "      <td>[Coachella2015]</td>\n",
              "    </tr>\n",
              "    <tr>\n",
              "      <th>3843</th>\n",
              "      <td>cant tell</td>\n",
              "      <td>yes</td>\n",
              "      <td>nicolejackieee</td>\n",
              "      <td>0</td>\n",
              "      <td>I've been callin that since day one #Coachella...</td>\n",
              "      <td>NaN</td>\n",
              "      <td>1/6/15 10:26</td>\n",
              "      <td>5.525320e+17</td>\n",
              "      <td>NaN</td>\n",
              "      <td>NaN</td>\n",
              "      <td>[Coachella2015]</td>\n",
              "    </tr>\n",
              "    <tr>\n",
              "      <th>3844</th>\n",
              "      <td>cant tell</td>\n",
              "      <td>yes</td>\n",
              "      <td>NiqueWobbitz</td>\n",
              "      <td>2</td>\n",
              "      <td>Is this for real?!?! #Coachella2015 http://t.c...</td>\n",
              "      <td>NaN</td>\n",
              "      <td>1/6/15 10:21</td>\n",
              "      <td>5.525300e+17</td>\n",
              "      <td>Huntington Beach X Long Beach</td>\n",
              "      <td>Pacific Time (US &amp; Canada)</td>\n",
              "      <td>[Coachella2015]</td>\n",
              "    </tr>\n",
              "    <tr>\n",
              "      <th>3845</th>\n",
              "      <td>cant tell</td>\n",
              "      <td>yes</td>\n",
              "      <td>LindsayRuben</td>\n",
              "      <td>1</td>\n",
              "      <td>RT @Jen_Baz: C'monnnnnn lineup! #coachella2015...</td>\n",
              "      <td>NaN</td>\n",
              "      <td>1/6/15 6:44</td>\n",
              "      <td>5.524760e+17</td>\n",
              "      <td>NaN</td>\n",
              "      <td>NaN</td>\n",
              "      <td>[coachella2015, Impatient]</td>\n",
              "    </tr>\n",
              "  </tbody>\n",
              "</table>\n",
              "</div>\n",
              "      <button class=\"colab-df-convert\" onclick=\"convertToInteractive('df-ece3633c-38c8-4b62-85eb-bcf1465d35b8')\"\n",
              "              title=\"Convert this dataframe to an interactive table.\"\n",
              "              style=\"display:none;\">\n",
              "        \n",
              "  <svg xmlns=\"http://www.w3.org/2000/svg\" height=\"24px\"viewBox=\"0 0 24 24\"\n",
              "       width=\"24px\">\n",
              "    <path d=\"M0 0h24v24H0V0z\" fill=\"none\"/>\n",
              "    <path d=\"M18.56 5.44l.94 2.06.94-2.06 2.06-.94-2.06-.94-.94-2.06-.94 2.06-2.06.94zm-11 1L8.5 8.5l.94-2.06 2.06-.94-2.06-.94L8.5 2.5l-.94 2.06-2.06.94zm10 10l.94 2.06.94-2.06 2.06-.94-2.06-.94-.94-2.06-.94 2.06-2.06.94z\"/><path d=\"M17.41 7.96l-1.37-1.37c-.4-.4-.92-.59-1.43-.59-.52 0-1.04.2-1.43.59L10.3 9.45l-7.72 7.72c-.78.78-.78 2.05 0 2.83L4 21.41c.39.39.9.59 1.41.59.51 0 1.02-.2 1.41-.59l7.78-7.78 2.81-2.81c.8-.78.8-2.07 0-2.86zM5.41 20L4 18.59l7.72-7.72 1.47 1.35L5.41 20z\"/>\n",
              "  </svg>\n",
              "      </button>\n",
              "      \n",
              "  <style>\n",
              "    .colab-df-container {\n",
              "      display:flex;\n",
              "      flex-wrap:wrap;\n",
              "      gap: 12px;\n",
              "    }\n",
              "\n",
              "    .colab-df-convert {\n",
              "      background-color: #E8F0FE;\n",
              "      border: none;\n",
              "      border-radius: 50%;\n",
              "      cursor: pointer;\n",
              "      display: none;\n",
              "      fill: #1967D2;\n",
              "      height: 32px;\n",
              "      padding: 0 0 0 0;\n",
              "      width: 32px;\n",
              "    }\n",
              "\n",
              "    .colab-df-convert:hover {\n",
              "      background-color: #E2EBFA;\n",
              "      box-shadow: 0px 1px 2px rgba(60, 64, 67, 0.3), 0px 1px 3px 1px rgba(60, 64, 67, 0.15);\n",
              "      fill: #174EA6;\n",
              "    }\n",
              "\n",
              "    [theme=dark] .colab-df-convert {\n",
              "      background-color: #3B4455;\n",
              "      fill: #D2E3FC;\n",
              "    }\n",
              "\n",
              "    [theme=dark] .colab-df-convert:hover {\n",
              "      background-color: #434B5C;\n",
              "      box-shadow: 0px 1px 3px 1px rgba(0, 0, 0, 0.15);\n",
              "      filter: drop-shadow(0px 1px 2px rgba(0, 0, 0, 0.3));\n",
              "      fill: #FFFFFF;\n",
              "    }\n",
              "  </style>\n",
              "\n",
              "      <script>\n",
              "        const buttonEl =\n",
              "          document.querySelector('#df-ece3633c-38c8-4b62-85eb-bcf1465d35b8 button.colab-df-convert');\n",
              "        buttonEl.style.display =\n",
              "          google.colab.kernel.accessAllowed ? 'block' : 'none';\n",
              "\n",
              "        async function convertToInteractive(key) {\n",
              "          const element = document.querySelector('#df-ece3633c-38c8-4b62-85eb-bcf1465d35b8');\n",
              "          const dataTable =\n",
              "            await google.colab.kernel.invokeFunction('convertToInteractive',\n",
              "                                                     [key], {});\n",
              "          if (!dataTable) return;\n",
              "\n",
              "          const docLinkHtml = 'Like what you see? Visit the ' +\n",
              "            '<a target=\"_blank\" href=https://colab.research.google.com/notebooks/data_table.ipynb>data table notebook</a>'\n",
              "            + ' to learn more about interactive tables.';\n",
              "          element.innerHTML = '';\n",
              "          dataTable['output_type'] = 'display_data';\n",
              "          await google.colab.output.renderOutput(dataTable, element);\n",
              "          const docLink = document.createElement('div');\n",
              "          docLink.innerHTML = docLinkHtml;\n",
              "          element.appendChild(docLink);\n",
              "        }\n",
              "      </script>\n",
              "    </div>\n",
              "  </div>\n",
              "  "
            ]
          },
          "metadata": {},
          "execution_count": 45
        }
      ]
    },
    {
      "cell_type": "code",
      "source": [
        "df['new_tweet'] = df.text.apply(func = remove_users)\n",
        "df.head()"
      ],
      "metadata": {
        "colab": {
          "base_uri": "https://localhost:8080/",
          "height": 513
        },
        "id": "pjKPACDIwfej",
        "outputId": "62b3d42f-fb55-4d8f-fb01-cae269db4ba0"
      },
      "execution_count": 46,
      "outputs": [
        {
          "output_type": "execute_result",
          "data": {
            "text/plain": [
              "  coachella_sentiment coachella_yn           name  retweet_count  \\\n",
              "0            positive          yes       kokombil              0   \n",
              "1            positive          yes  MisssTaraaa10              2   \n",
              "2            positive          yes  NMcCracken805              0   \n",
              "3            positive          yes         wxpnfm              1   \n",
              "4            positive          yes       Caesears              0   \n",
              "\n",
              "                                                text tweet_coord  \\\n",
              "0  #Coachella2015 tickets selling out in less tha...  [0.0, 0.0]   \n",
              "1  RT @sudsybuddy: WAIT THIS IS ABSOLUTE FIRE _ÙÓ...         NaN   \n",
              "2  #Coachella2015 #VIP passes secured! See you th...         NaN   \n",
              "3  PhillyÛªs @warondrugsjams will play #Coachell...         NaN   \n",
              "4  If briana and her mom out to #Coachella2015  i...         NaN   \n",
              "\n",
              "  tweet_created      tweet_id                  tweet_location user_timezone  \\\n",
              "0  1/7/15 15:02  5.529630e+17                             NaN         Quito   \n",
              "1  1/7/15 15:02  5.529630e+17                   united states           NaN   \n",
              "2  1/7/15 15:01  5.529630e+17                  Costa Mesa, CA           NaN   \n",
              "3  1/7/15 15:01  5.529630e+17  Philadelphia, PA and Worldwide         Quito   \n",
              "4  1/7/15 15:00  5.529630e+17                             NaN           NaN   \n",
              "\n",
              "                        hashtag  \\\n",
              "0               [Coachella2015]   \n",
              "1               [Coachella2015]   \n",
              "2          [Coachella2015, VIP]   \n",
              "3  [Coachella2015, GovBall2015]   \n",
              "4               [Coachella2015]   \n",
              "\n",
              "                                           new_tweet  \n",
              "0  #Coachella2015 tickets selling out in less tha...  \n",
              "1  RT : WAIT THIS IS ABSOLUTE FIRE _ÙÓ´_ÙÓ´_ÙÓ´ #...  \n",
              "2  #Coachella2015 #VIP passes secured! See you th...  \n",
              "3  PhillyÛªs  will play #Coachella2015 &amp; #Go...  \n",
              "4  If briana and her mom out to #Coachella2015  i...  "
            ],
            "text/html": [
              "\n",
              "  <div id=\"df-6775d5d3-5b30-4535-b218-951bccf324b8\">\n",
              "    <div class=\"colab-df-container\">\n",
              "      <div>\n",
              "<style scoped>\n",
              "    .dataframe tbody tr th:only-of-type {\n",
              "        vertical-align: middle;\n",
              "    }\n",
              "\n",
              "    .dataframe tbody tr th {\n",
              "        vertical-align: top;\n",
              "    }\n",
              "\n",
              "    .dataframe thead th {\n",
              "        text-align: right;\n",
              "    }\n",
              "</style>\n",
              "<table border=\"1\" class=\"dataframe\">\n",
              "  <thead>\n",
              "    <tr style=\"text-align: right;\">\n",
              "      <th></th>\n",
              "      <th>coachella_sentiment</th>\n",
              "      <th>coachella_yn</th>\n",
              "      <th>name</th>\n",
              "      <th>retweet_count</th>\n",
              "      <th>text</th>\n",
              "      <th>tweet_coord</th>\n",
              "      <th>tweet_created</th>\n",
              "      <th>tweet_id</th>\n",
              "      <th>tweet_location</th>\n",
              "      <th>user_timezone</th>\n",
              "      <th>hashtag</th>\n",
              "      <th>new_tweet</th>\n",
              "    </tr>\n",
              "  </thead>\n",
              "  <tbody>\n",
              "    <tr>\n",
              "      <th>0</th>\n",
              "      <td>positive</td>\n",
              "      <td>yes</td>\n",
              "      <td>kokombil</td>\n",
              "      <td>0</td>\n",
              "      <td>#Coachella2015 tickets selling out in less tha...</td>\n",
              "      <td>[0.0, 0.0]</td>\n",
              "      <td>1/7/15 15:02</td>\n",
              "      <td>5.529630e+17</td>\n",
              "      <td>NaN</td>\n",
              "      <td>Quito</td>\n",
              "      <td>[Coachella2015]</td>\n",
              "      <td>#Coachella2015 tickets selling out in less tha...</td>\n",
              "    </tr>\n",
              "    <tr>\n",
              "      <th>1</th>\n",
              "      <td>positive</td>\n",
              "      <td>yes</td>\n",
              "      <td>MisssTaraaa10</td>\n",
              "      <td>2</td>\n",
              "      <td>RT @sudsybuddy: WAIT THIS IS ABSOLUTE FIRE _ÙÓ...</td>\n",
              "      <td>NaN</td>\n",
              "      <td>1/7/15 15:02</td>\n",
              "      <td>5.529630e+17</td>\n",
              "      <td>united states</td>\n",
              "      <td>NaN</td>\n",
              "      <td>[Coachella2015]</td>\n",
              "      <td>RT : WAIT THIS IS ABSOLUTE FIRE _ÙÓ´_ÙÓ´_ÙÓ´ #...</td>\n",
              "    </tr>\n",
              "    <tr>\n",
              "      <th>2</th>\n",
              "      <td>positive</td>\n",
              "      <td>yes</td>\n",
              "      <td>NMcCracken805</td>\n",
              "      <td>0</td>\n",
              "      <td>#Coachella2015 #VIP passes secured! See you th...</td>\n",
              "      <td>NaN</td>\n",
              "      <td>1/7/15 15:01</td>\n",
              "      <td>5.529630e+17</td>\n",
              "      <td>Costa Mesa, CA</td>\n",
              "      <td>NaN</td>\n",
              "      <td>[Coachella2015, VIP]</td>\n",
              "      <td>#Coachella2015 #VIP passes secured! See you th...</td>\n",
              "    </tr>\n",
              "    <tr>\n",
              "      <th>3</th>\n",
              "      <td>positive</td>\n",
              "      <td>yes</td>\n",
              "      <td>wxpnfm</td>\n",
              "      <td>1</td>\n",
              "      <td>PhillyÛªs @warondrugsjams will play #Coachell...</td>\n",
              "      <td>NaN</td>\n",
              "      <td>1/7/15 15:01</td>\n",
              "      <td>5.529630e+17</td>\n",
              "      <td>Philadelphia, PA and Worldwide</td>\n",
              "      <td>Quito</td>\n",
              "      <td>[Coachella2015, GovBall2015]</td>\n",
              "      <td>PhillyÛªs  will play #Coachella2015 &amp;amp; #Go...</td>\n",
              "    </tr>\n",
              "    <tr>\n",
              "      <th>4</th>\n",
              "      <td>positive</td>\n",
              "      <td>yes</td>\n",
              "      <td>Caesears</td>\n",
              "      <td>0</td>\n",
              "      <td>If briana and her mom out to #Coachella2015  i...</td>\n",
              "      <td>NaN</td>\n",
              "      <td>1/7/15 15:00</td>\n",
              "      <td>5.529630e+17</td>\n",
              "      <td>NaN</td>\n",
              "      <td>NaN</td>\n",
              "      <td>[Coachella2015]</td>\n",
              "      <td>If briana and her mom out to #Coachella2015  i...</td>\n",
              "    </tr>\n",
              "  </tbody>\n",
              "</table>\n",
              "</div>\n",
              "      <button class=\"colab-df-convert\" onclick=\"convertToInteractive('df-6775d5d3-5b30-4535-b218-951bccf324b8')\"\n",
              "              title=\"Convert this dataframe to an interactive table.\"\n",
              "              style=\"display:none;\">\n",
              "        \n",
              "  <svg xmlns=\"http://www.w3.org/2000/svg\" height=\"24px\"viewBox=\"0 0 24 24\"\n",
              "       width=\"24px\">\n",
              "    <path d=\"M0 0h24v24H0V0z\" fill=\"none\"/>\n",
              "    <path d=\"M18.56 5.44l.94 2.06.94-2.06 2.06-.94-2.06-.94-.94-2.06-.94 2.06-2.06.94zm-11 1L8.5 8.5l.94-2.06 2.06-.94-2.06-.94L8.5 2.5l-.94 2.06-2.06.94zm10 10l.94 2.06.94-2.06 2.06-.94-2.06-.94-.94-2.06-.94 2.06-2.06.94z\"/><path d=\"M17.41 7.96l-1.37-1.37c-.4-.4-.92-.59-1.43-.59-.52 0-1.04.2-1.43.59L10.3 9.45l-7.72 7.72c-.78.78-.78 2.05 0 2.83L4 21.41c.39.39.9.59 1.41.59.51 0 1.02-.2 1.41-.59l7.78-7.78 2.81-2.81c.8-.78.8-2.07 0-2.86zM5.41 20L4 18.59l7.72-7.72 1.47 1.35L5.41 20z\"/>\n",
              "  </svg>\n",
              "      </button>\n",
              "      \n",
              "  <style>\n",
              "    .colab-df-container {\n",
              "      display:flex;\n",
              "      flex-wrap:wrap;\n",
              "      gap: 12px;\n",
              "    }\n",
              "\n",
              "    .colab-df-convert {\n",
              "      background-color: #E8F0FE;\n",
              "      border: none;\n",
              "      border-radius: 50%;\n",
              "      cursor: pointer;\n",
              "      display: none;\n",
              "      fill: #1967D2;\n",
              "      height: 32px;\n",
              "      padding: 0 0 0 0;\n",
              "      width: 32px;\n",
              "    }\n",
              "\n",
              "    .colab-df-convert:hover {\n",
              "      background-color: #E2EBFA;\n",
              "      box-shadow: 0px 1px 2px rgba(60, 64, 67, 0.3), 0px 1px 3px 1px rgba(60, 64, 67, 0.15);\n",
              "      fill: #174EA6;\n",
              "    }\n",
              "\n",
              "    [theme=dark] .colab-df-convert {\n",
              "      background-color: #3B4455;\n",
              "      fill: #D2E3FC;\n",
              "    }\n",
              "\n",
              "    [theme=dark] .colab-df-convert:hover {\n",
              "      background-color: #434B5C;\n",
              "      box-shadow: 0px 1px 3px 1px rgba(0, 0, 0, 0.15);\n",
              "      filter: drop-shadow(0px 1px 2px rgba(0, 0, 0, 0.3));\n",
              "      fill: #FFFFFF;\n",
              "    }\n",
              "  </style>\n",
              "\n",
              "      <script>\n",
              "        const buttonEl =\n",
              "          document.querySelector('#df-6775d5d3-5b30-4535-b218-951bccf324b8 button.colab-df-convert');\n",
              "        buttonEl.style.display =\n",
              "          google.colab.kernel.accessAllowed ? 'block' : 'none';\n",
              "\n",
              "        async function convertToInteractive(key) {\n",
              "          const element = document.querySelector('#df-6775d5d3-5b30-4535-b218-951bccf324b8');\n",
              "          const dataTable =\n",
              "            await google.colab.kernel.invokeFunction('convertToInteractive',\n",
              "                                                     [key], {});\n",
              "          if (!dataTable) return;\n",
              "\n",
              "          const docLinkHtml = 'Like what you see? Visit the ' +\n",
              "            '<a target=\"_blank\" href=https://colab.research.google.com/notebooks/data_table.ipynb>data table notebook</a>'\n",
              "            + ' to learn more about interactive tables.';\n",
              "          element.innerHTML = '';\n",
              "          dataTable['output_type'] = 'display_data';\n",
              "          await google.colab.output.renderOutput(dataTable, element);\n",
              "          const docLink = document.createElement('div');\n",
              "          docLink.innerHTML = docLinkHtml;\n",
              "          element.appendChild(docLink);\n",
              "        }\n",
              "      </script>\n",
              "    </div>\n",
              "  </div>\n",
              "  "
            ]
          },
          "metadata": {},
          "execution_count": 46
        }
      ]
    },
    {
      "cell_type": "code",
      "source": [
        "def remove_(tweet):\n",
        "  tweet=re.sub('([_]+)','',tweet)\n",
        "  return tweet"
      ],
      "metadata": {
        "id": "Hd-ZlFVWyttZ"
      },
      "execution_count": 47,
      "outputs": []
    },
    {
      "cell_type": "markdown",
      "source": [
        "Translating Emojis with emot"
      ],
      "metadata": {
        "id": "u02J17INy8Ul"
      }
    },
    {
      "cell_type": "code",
      "source": [
        "!pip install emot\n",
        "import emot\n",
        "from emot.emo_unicode import UNICODE_EMOJI,EMOTICONS_EMO"
      ],
      "metadata": {
        "colab": {
          "base_uri": "https://localhost:8080/"
        },
        "id": "LgxRqAKOy2if",
        "outputId": "cace4341-d9e1-4b1d-8890-0b864eff104a"
      },
      "execution_count": 48,
      "outputs": [
        {
          "output_type": "stream",
          "name": "stdout",
          "text": [
            "Looking in indexes: https://pypi.org/simple, https://us-python.pkg.dev/colab-wheels/public/simple/\n",
            "Collecting emot\n",
            "  Downloading emot-3.1-py3-none-any.whl (61 kB)\n",
            "\u001b[2K     \u001b[90m━━━━━━━━━━━━━━━━━━━━━━━━━━━━━━━━━━━━━━━━\u001b[0m \u001b[32m61.5/61.5 kB\u001b[0m \u001b[31m2.4 MB/s\u001b[0m eta \u001b[36m0:00:00\u001b[0m\n",
            "\u001b[?25hInstalling collected packages: emot\n",
            "Successfully installed emot-3.1\n"
          ]
        }
      ]
    },
    {
      "cell_type": "code",
      "source": [
        "def emoji(text):\n",
        "  for emot in UNICODE_EMOJI:\n",
        "    if text==None:\n",
        "      text=text\n",
        "    else:\n",
        "      text=text.replace(emot,\"_\".join(UNICODE_EMOJI[emot].replace(\",\",\"\").replace(\":\",\"\").split()))\n",
        "    return text"
      ],
      "metadata": {
        "id": "r0Oq-qGLy7CI"
      },
      "execution_count": 49,
      "outputs": []
    },
    {
      "cell_type": "code",
      "source": [
        "sampletweet = 'concert deserves 🥇'\n",
        "tweet = emoji(sampletweet) \n",
        "print(tweet)"
      ],
      "metadata": {
        "colab": {
          "base_uri": "https://localhost:8080/"
        },
        "id": "Nva1VyJAzDDR",
        "outputId": "1bc70157-98de-4551-ac93-512672c5dacb"
      },
      "execution_count": 50,
      "outputs": [
        {
          "output_type": "stream",
          "name": "stdout",
          "text": [
            "concert deserves 1st_place_medal\n"
          ]
        }
      ]
    },
    {
      "cell_type": "code",
      "source": [
        "df['hashtag'] = df.text.apply(func = hashtags)\n",
        "df['new_tweet'] = df.text.apply(func = emoji)\n",
        "df['new_tweet'] = df.new_tweet.apply(func = remove_links)\n",
        "df['new_tweet'] = df.new_tweet.apply(func = remove_users)\n",
        "df['new_tweet'] = df.new_tweet.apply(func = non_ascii)\n",
        "df['new_tweet'] = df.new_tweet.apply(func = email_address)\n",
        "df['new_tweet'] = df.new_tweet.apply(func = removeStopWords)\n",
        "df['new_tweet'] = df.new_tweet.apply(func = punct)\n",
        "df['new_tweet'] = df.new_tweet.apply(func = remove_)\n"
      ],
      "metadata": {
        "id": "3y6f-wDczEW1"
      },
      "execution_count": 66,
      "outputs": []
    },
    {
      "cell_type": "code",
      "source": [
        "df.head()\n"
      ],
      "metadata": {
        "colab": {
          "base_uri": "https://localhost:8080/",
          "height": 548
        },
        "id": "i-zYtCKyzPfA",
        "outputId": "7c1fa715-a2e7-4e1c-f89e-dbdb4492ac74"
      },
      "execution_count": 67,
      "outputs": [
        {
          "output_type": "execute_result",
          "data": {
            "text/plain": [
              "  coachella_sentiment coachella_yn           name  retweet_count  \\\n",
              "0            positive          yes       kokombil              0   \n",
              "1            positive          yes  MisssTaraaa10              2   \n",
              "2            positive          yes  NMcCracken805              0   \n",
              "3            positive          yes         wxpnfm              1   \n",
              "4            positive          yes       Caesears              0   \n",
              "\n",
              "                                                text tweet_coord  \\\n",
              "0  #Coachella2015 tickets selling out in less tha...  [0.0, 0.0]   \n",
              "1  RT @sudsybuddy: WAIT THIS IS ABSOLUTE FIRE _ÙÓ...         NaN   \n",
              "2  #Coachella2015 #VIP passes secured! See you th...         NaN   \n",
              "3  PhillyÛªs @warondrugsjams will play #Coachell...         NaN   \n",
              "4  If briana and her mom out to #Coachella2015  i...         NaN   \n",
              "\n",
              "  tweet_created      tweet_id                  tweet_location user_timezone  \\\n",
              "0  1/7/15 15:02  5.529630e+17                             NaN         Quito   \n",
              "1  1/7/15 15:02  5.529630e+17                   united states           NaN   \n",
              "2  1/7/15 15:01  5.529630e+17                  Costa Mesa, CA           NaN   \n",
              "3  1/7/15 15:01  5.529630e+17  Philadelphia, PA and Worldwide         Quito   \n",
              "4  1/7/15 15:00  5.529630e+17                             NaN           NaN   \n",
              "\n",
              "                        hashtag  \\\n",
              "0               [Coachella2015]   \n",
              "1               [Coachella2015]   \n",
              "2          [Coachella2015, VIP]   \n",
              "3  [Coachella2015, GovBall2015]   \n",
              "4               [Coachella2015]   \n",
              "\n",
              "                                           new_tweet  \n",
              "0     coachella2015 tickets selling less 40 minutes   \n",
              "1               rt wait absolute fire  coachella2015  \n",
              "2   coachella2015 vip passes secured see bitchesssss  \n",
              "3  phillys play coachella2015 amp govball2015 wat...  \n",
              "4                       briana mom coachella2015 im   "
            ],
            "text/html": [
              "\n",
              "  <div id=\"df-e1d9414c-0973-4b4d-82f5-597aa57dad7d\">\n",
              "    <div class=\"colab-df-container\">\n",
              "      <div>\n",
              "<style scoped>\n",
              "    .dataframe tbody tr th:only-of-type {\n",
              "        vertical-align: middle;\n",
              "    }\n",
              "\n",
              "    .dataframe tbody tr th {\n",
              "        vertical-align: top;\n",
              "    }\n",
              "\n",
              "    .dataframe thead th {\n",
              "        text-align: right;\n",
              "    }\n",
              "</style>\n",
              "<table border=\"1\" class=\"dataframe\">\n",
              "  <thead>\n",
              "    <tr style=\"text-align: right;\">\n",
              "      <th></th>\n",
              "      <th>coachella_sentiment</th>\n",
              "      <th>coachella_yn</th>\n",
              "      <th>name</th>\n",
              "      <th>retweet_count</th>\n",
              "      <th>text</th>\n",
              "      <th>tweet_coord</th>\n",
              "      <th>tweet_created</th>\n",
              "      <th>tweet_id</th>\n",
              "      <th>tweet_location</th>\n",
              "      <th>user_timezone</th>\n",
              "      <th>hashtag</th>\n",
              "      <th>new_tweet</th>\n",
              "    </tr>\n",
              "  </thead>\n",
              "  <tbody>\n",
              "    <tr>\n",
              "      <th>0</th>\n",
              "      <td>positive</td>\n",
              "      <td>yes</td>\n",
              "      <td>kokombil</td>\n",
              "      <td>0</td>\n",
              "      <td>#Coachella2015 tickets selling out in less tha...</td>\n",
              "      <td>[0.0, 0.0]</td>\n",
              "      <td>1/7/15 15:02</td>\n",
              "      <td>5.529630e+17</td>\n",
              "      <td>NaN</td>\n",
              "      <td>Quito</td>\n",
              "      <td>[Coachella2015]</td>\n",
              "      <td>coachella2015 tickets selling less 40 minutes</td>\n",
              "    </tr>\n",
              "    <tr>\n",
              "      <th>1</th>\n",
              "      <td>positive</td>\n",
              "      <td>yes</td>\n",
              "      <td>MisssTaraaa10</td>\n",
              "      <td>2</td>\n",
              "      <td>RT @sudsybuddy: WAIT THIS IS ABSOLUTE FIRE _ÙÓ...</td>\n",
              "      <td>NaN</td>\n",
              "      <td>1/7/15 15:02</td>\n",
              "      <td>5.529630e+17</td>\n",
              "      <td>united states</td>\n",
              "      <td>NaN</td>\n",
              "      <td>[Coachella2015]</td>\n",
              "      <td>rt wait absolute fire  coachella2015</td>\n",
              "    </tr>\n",
              "    <tr>\n",
              "      <th>2</th>\n",
              "      <td>positive</td>\n",
              "      <td>yes</td>\n",
              "      <td>NMcCracken805</td>\n",
              "      <td>0</td>\n",
              "      <td>#Coachella2015 #VIP passes secured! See you th...</td>\n",
              "      <td>NaN</td>\n",
              "      <td>1/7/15 15:01</td>\n",
              "      <td>5.529630e+17</td>\n",
              "      <td>Costa Mesa, CA</td>\n",
              "      <td>NaN</td>\n",
              "      <td>[Coachella2015, VIP]</td>\n",
              "      <td>coachella2015 vip passes secured see bitchesssss</td>\n",
              "    </tr>\n",
              "    <tr>\n",
              "      <th>3</th>\n",
              "      <td>positive</td>\n",
              "      <td>yes</td>\n",
              "      <td>wxpnfm</td>\n",
              "      <td>1</td>\n",
              "      <td>PhillyÛªs @warondrugsjams will play #Coachell...</td>\n",
              "      <td>NaN</td>\n",
              "      <td>1/7/15 15:01</td>\n",
              "      <td>5.529630e+17</td>\n",
              "      <td>Philadelphia, PA and Worldwide</td>\n",
              "      <td>Quito</td>\n",
              "      <td>[Coachella2015, GovBall2015]</td>\n",
              "      <td>phillys play coachella2015 amp govball2015 wat...</td>\n",
              "    </tr>\n",
              "    <tr>\n",
              "      <th>4</th>\n",
              "      <td>positive</td>\n",
              "      <td>yes</td>\n",
              "      <td>Caesears</td>\n",
              "      <td>0</td>\n",
              "      <td>If briana and her mom out to #Coachella2015  i...</td>\n",
              "      <td>NaN</td>\n",
              "      <td>1/7/15 15:00</td>\n",
              "      <td>5.529630e+17</td>\n",
              "      <td>NaN</td>\n",
              "      <td>NaN</td>\n",
              "      <td>[Coachella2015]</td>\n",
              "      <td>briana mom coachella2015 im</td>\n",
              "    </tr>\n",
              "  </tbody>\n",
              "</table>\n",
              "</div>\n",
              "      <button class=\"colab-df-convert\" onclick=\"convertToInteractive('df-e1d9414c-0973-4b4d-82f5-597aa57dad7d')\"\n",
              "              title=\"Convert this dataframe to an interactive table.\"\n",
              "              style=\"display:none;\">\n",
              "        \n",
              "  <svg xmlns=\"http://www.w3.org/2000/svg\" height=\"24px\"viewBox=\"0 0 24 24\"\n",
              "       width=\"24px\">\n",
              "    <path d=\"M0 0h24v24H0V0z\" fill=\"none\"/>\n",
              "    <path d=\"M18.56 5.44l.94 2.06.94-2.06 2.06-.94-2.06-.94-.94-2.06-.94 2.06-2.06.94zm-11 1L8.5 8.5l.94-2.06 2.06-.94-2.06-.94L8.5 2.5l-.94 2.06-2.06.94zm10 10l.94 2.06.94-2.06 2.06-.94-2.06-.94-.94-2.06-.94 2.06-2.06.94z\"/><path d=\"M17.41 7.96l-1.37-1.37c-.4-.4-.92-.59-1.43-.59-.52 0-1.04.2-1.43.59L10.3 9.45l-7.72 7.72c-.78.78-.78 2.05 0 2.83L4 21.41c.39.39.9.59 1.41.59.51 0 1.02-.2 1.41-.59l7.78-7.78 2.81-2.81c.8-.78.8-2.07 0-2.86zM5.41 20L4 18.59l7.72-7.72 1.47 1.35L5.41 20z\"/>\n",
              "  </svg>\n",
              "      </button>\n",
              "      \n",
              "  <style>\n",
              "    .colab-df-container {\n",
              "      display:flex;\n",
              "      flex-wrap:wrap;\n",
              "      gap: 12px;\n",
              "    }\n",
              "\n",
              "    .colab-df-convert {\n",
              "      background-color: #E8F0FE;\n",
              "      border: none;\n",
              "      border-radius: 50%;\n",
              "      cursor: pointer;\n",
              "      display: none;\n",
              "      fill: #1967D2;\n",
              "      height: 32px;\n",
              "      padding: 0 0 0 0;\n",
              "      width: 32px;\n",
              "    }\n",
              "\n",
              "    .colab-df-convert:hover {\n",
              "      background-color: #E2EBFA;\n",
              "      box-shadow: 0px 1px 2px rgba(60, 64, 67, 0.3), 0px 1px 3px 1px rgba(60, 64, 67, 0.15);\n",
              "      fill: #174EA6;\n",
              "    }\n",
              "\n",
              "    [theme=dark] .colab-df-convert {\n",
              "      background-color: #3B4455;\n",
              "      fill: #D2E3FC;\n",
              "    }\n",
              "\n",
              "    [theme=dark] .colab-df-convert:hover {\n",
              "      background-color: #434B5C;\n",
              "      box-shadow: 0px 1px 3px 1px rgba(0, 0, 0, 0.15);\n",
              "      filter: drop-shadow(0px 1px 2px rgba(0, 0, 0, 0.3));\n",
              "      fill: #FFFFFF;\n",
              "    }\n",
              "  </style>\n",
              "\n",
              "      <script>\n",
              "        const buttonEl =\n",
              "          document.querySelector('#df-e1d9414c-0973-4b4d-82f5-597aa57dad7d button.colab-df-convert');\n",
              "        buttonEl.style.display =\n",
              "          google.colab.kernel.accessAllowed ? 'block' : 'none';\n",
              "\n",
              "        async function convertToInteractive(key) {\n",
              "          const element = document.querySelector('#df-e1d9414c-0973-4b4d-82f5-597aa57dad7d');\n",
              "          const dataTable =\n",
              "            await google.colab.kernel.invokeFunction('convertToInteractive',\n",
              "                                                     [key], {});\n",
              "          if (!dataTable) return;\n",
              "\n",
              "          const docLinkHtml = 'Like what you see? Visit the ' +\n",
              "            '<a target=\"_blank\" href=https://colab.research.google.com/notebooks/data_table.ipynb>data table notebook</a>'\n",
              "            + ' to learn more about interactive tables.';\n",
              "          element.innerHTML = '';\n",
              "          dataTable['output_type'] = 'display_data';\n",
              "          await google.colab.output.renderOutput(dataTable, element);\n",
              "          const docLink = document.createElement('div');\n",
              "          docLink.innerHTML = docLinkHtml;\n",
              "          element.appendChild(docLink);\n",
              "        }\n",
              "      </script>\n",
              "    </div>\n",
              "  </div>\n",
              "  "
            ]
          },
          "metadata": {},
          "execution_count": 67
        }
      ]
    },
    {
      "cell_type": "code",
      "source": [
        "df['text'][1]"
      ],
      "metadata": {
        "colab": {
          "base_uri": "https://localhost:8080/",
          "height": 35
        },
        "id": "1ULyjaTxzSTY",
        "outputId": "ede35a8b-f7dc-4429-f4f3-911d3ce9803d"
      },
      "execution_count": 69,
      "outputs": [
        {
          "output_type": "execute_result",
          "data": {
            "text/plain": [
              "'RT @sudsybuddy: WAIT THIS IS ABSOLUTE FIRE _ÙÓ´_ÙÓ´_ÙÓ´ #Coachella2015 http://t.co/Ov2eCJtAvR'"
            ],
            "application/vnd.google.colaboratory.intrinsic+json": {
              "type": "string"
            }
          },
          "metadata": {},
          "execution_count": 69
        }
      ]
    },
    {
      "cell_type": "code",
      "source": [
        "df['new_tweet'][1]\n"
      ],
      "metadata": {
        "colab": {
          "base_uri": "https://localhost:8080/",
          "height": 35
        },
        "id": "68NjfurEzVEb",
        "outputId": "8af881eb-6679-476b-a44e-e12ebebbc2a2"
      },
      "execution_count": 68,
      "outputs": [
        {
          "output_type": "execute_result",
          "data": {
            "text/plain": [
              "'rt wait absolute fire  coachella2015'"
            ],
            "application/vnd.google.colaboratory.intrinsic+json": {
              "type": "string"
            }
          },
          "metadata": {},
          "execution_count": 68
        }
      ]
    }
  ]
}