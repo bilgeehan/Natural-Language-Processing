{
  "nbformat": 4,
  "nbformat_minor": 0,
  "metadata": {
    "colab": {
      "provenance": [],
      "authorship_tag": "ABX9TyN+sHyrXHHUNfKkL9oMIPvP",
      "include_colab_link": true
    },
    "kernelspec": {
      "name": "python3",
      "display_name": "Python 3"
    },
    "language_info": {
      "name": "python"
    }
  },
  "cells": [
    {
      "cell_type": "markdown",
      "metadata": {
        "id": "view-in-github",
        "colab_type": "text"
      },
      "source": [
        "<a href=\"https://colab.research.google.com/github/bilgeehan/Natural-Language-Processing/blob/main/tokenization_and_fixing_contractions.ipynb\" target=\"_parent\"><img src=\"https://colab.research.google.com/assets/colab-badge.svg\" alt=\"Open In Colab\"/></a>"
      ]
    },
    {
      "cell_type": "markdown",
      "source": [
        "#**Tokenization Methods of NLTK**\n",
        "\n",
        "##word_tokenize()\n",
        " \n",
        "We use word_tokenize for tokenizing the sentences"
      ],
      "metadata": {
        "id": "6iX1XrmHujO8"
      }
    },
    {
      "cell_type": "code",
      "execution_count": 1,
      "metadata": {
        "colab": {
          "base_uri": "https://localhost:8080/"
        },
        "id": "1lQn68CloN56",
        "outputId": "c51b07e8-e952-40d5-80b1-c853f46bf0fc"
      },
      "outputs": [
        {
          "output_type": "stream",
          "name": "stderr",
          "text": [
            "[nltk_data] Downloading package punkt to /root/nltk_data...\n",
            "[nltk_data]   Unzipping tokenizers/punkt.zip.\n"
          ]
        },
        {
          "output_type": "execute_result",
          "data": {
            "text/plain": [
              "True"
            ]
          },
          "metadata": {},
          "execution_count": 1
        }
      ],
      "source": [
        "import nltk #importing nltk package \n",
        "from nltk.tokenize import word_tokenize \n",
        "nltk.download('punkt')\n"
      ]
    },
    {
      "cell_type": "code",
      "source": [
        "sentence = \"I just started artificial intelligence engineering. My first lesson is NLP\"\n"
      ],
      "metadata": {
        "id": "CAGSH5zIuwuc"
      },
      "execution_count": 5,
      "outputs": []
    },
    {
      "cell_type": "code",
      "source": [
        "word_tokenize(sentence)\n"
      ],
      "metadata": {
        "colab": {
          "base_uri": "https://localhost:8080/"
        },
        "id": "rjUL5eIqayv1",
        "outputId": "57f3b285-25ae-4e1e-fe41-27b6bce52f3f"
      },
      "execution_count": 6,
      "outputs": [
        {
          "output_type": "execute_result",
          "data": {
            "text/plain": [
              "['I',\n",
              " 'just',\n",
              " 'started',\n",
              " 'artificial',\n",
              " 'intelligence',\n",
              " 'engineering',\n",
              " '.',\n",
              " 'My',\n",
              " 'first',\n",
              " 'lesson',\n",
              " 'is',\n",
              " 'NLP']"
            ]
          },
          "metadata": {},
          "execution_count": 6
        }
      ]
    },
    {
      "cell_type": "code",
      "source": [],
      "metadata": {
        "id": "OC1Wyhcma5Qm"
      },
      "execution_count": null,
      "outputs": []
    },
    {
      "cell_type": "markdown",
      "source": [
        "##sent_tokenize()\n",
        "\n",
        "We use sent_tokenize method for split a document or paragraph into sentences"
      ],
      "metadata": {
        "id": "TQG3Ke7Jhis3"
      }
    },
    {
      "cell_type": "code",
      "source": [
        "from nltk.tokenize import sent_tokenize\n"
      ],
      "metadata": {
        "id": "UMSYMOwSiHTZ"
      },
      "execution_count": 7,
      "outputs": []
    },
    {
      "cell_type": "code",
      "source": [
        "article = '''I graduated with a bachelor's degree in software engineering. \n",
        "I started my master's degree in artificial intelligence engineering. \n",
        "My first lesson is NLP. '''\n"
      ],
      "metadata": {
        "id": "icGd8ef9iNYJ"
      },
      "execution_count": 13,
      "outputs": []
    },
    {
      "cell_type": "code",
      "source": [
        "sent_tokenize(article)\n"
      ],
      "metadata": {
        "colab": {
          "base_uri": "https://localhost:8080/"
        },
        "id": "R10WyrhgjTIG",
        "outputId": "e4edcee1-3883-4839-a4b2-0408a5d0971c"
      },
      "execution_count": 14,
      "outputs": [
        {
          "output_type": "execute_result",
          "data": {
            "text/plain": [
              "[\"I graduated with a bachelor's degree in software engineering.\",\n",
              " \"I started my master's degree in artificial intelligence engineering.\",\n",
              " 'My first lesson is NLP.']"
            ]
          },
          "metadata": {},
          "execution_count": 14
        }
      ]
    },
    {
      "cell_type": "markdown",
      "source": [
        "##Contractions\n",
        " **We use the contractions library to open sentences from their abbreviations and fix them as they should be.**"
      ],
      "metadata": {
        "id": "agOWcNjMrZuz"
      }
    },
    {
      "cell_type": "code",
      "source": [
        "!pip install contractions\n"
      ],
      "metadata": {
        "colab": {
          "base_uri": "https://localhost:8080/"
        },
        "id": "Pg0NfoBUrTgL",
        "outputId": "8ecfe462-9a12-48c3-ad2f-c1fe4af92370"
      },
      "execution_count": 15,
      "outputs": [
        {
          "output_type": "stream",
          "name": "stdout",
          "text": [
            "Looking in indexes: https://pypi.org/simple, https://us-python.pkg.dev/colab-wheels/public/simple/\n",
            "Collecting contractions\n",
            "  Downloading contractions-0.1.73-py2.py3-none-any.whl (8.7 kB)\n",
            "Collecting textsearch>=0.0.21\n",
            "  Downloading textsearch-0.0.24-py2.py3-none-any.whl (7.6 kB)\n",
            "Collecting anyascii\n",
            "  Downloading anyascii-0.3.2-py3-none-any.whl (289 kB)\n",
            "\u001b[2K     \u001b[90m━━━━━━━━━━━━━━━━━━━━━━━━━━━━━━━━━━━━━━━\u001b[0m \u001b[32m289.9/289.9 KB\u001b[0m \u001b[31m8.7 MB/s\u001b[0m eta \u001b[36m0:00:00\u001b[0m\n",
            "\u001b[?25hCollecting pyahocorasick\n",
            "  Downloading pyahocorasick-2.0.0-cp39-cp39-manylinux_2_5_x86_64.manylinux1_x86_64.whl (103 kB)\n",
            "\u001b[2K     \u001b[90m━━━━━━━━━━━━━━━━━━━━━━━━━━━━━━━━━━━━━━\u001b[0m \u001b[32m103.2/103.2 KB\u001b[0m \u001b[31m11.3 MB/s\u001b[0m eta \u001b[36m0:00:00\u001b[0m\n",
            "\u001b[?25hInstalling collected packages: pyahocorasick, anyascii, textsearch, contractions\n",
            "Successfully installed anyascii-0.3.2 contractions-0.1.73 pyahocorasick-2.0.0 textsearch-0.0.24\n"
          ]
        }
      ]
    },
    {
      "cell_type": "markdown",
      "source": [],
      "metadata": {
        "id": "8OCp5Nbgu0BI"
      }
    },
    {
      "cell_type": "code",
      "source": [
        "import contractions\n",
        "paragraph = '''She's going for a walk. Jack didn't go because he was tired. \n",
        "          They'd definitely go tonight. I'm sorry, I'll be late.\n",
        "          That's the way I like 'em!! '''\n",
        "  \n",
        "arrFixedParagraph = []    \n",
        "for word in paragraph.split():\n",
        "  arrFixedParagraph.append(contractions.fix(word))   \n",
        "    \n",
        "strFixedParagraph = ' '.join(arrFixedParagraph)\n",
        "print('Text with contractions: ' + paragraph)\n",
        "print('Expanded Clitics: ' + strFixedParagraph)"
      ],
      "metadata": {
        "colab": {
          "base_uri": "https://localhost:8080/"
        },
        "id": "Fmw_SaWusVAO",
        "outputId": "b343d229-52be-4fb3-d577-3b2c26e95f2d"
      },
      "execution_count": 24,
      "outputs": [
        {
          "output_type": "stream",
          "name": "stdout",
          "text": [
            "Text with contractions: She's going for a walk. Jack didn't go because he was tired. \n",
            "          They'd definitely go tonight. I'm sorry, I'll be late.\n",
            "          That's the way I like 'em!! \n",
            "Expanded Clitics: She is going for a walk. Jack did not go because he was tired. They would definitely go tonight. I am sorry, I will be late. That is the way I like them!!\n"
          ]
        }
      ]
    },
    {
      "cell_type": "markdown",
      "source": [
        "**We can see the difference here**"
      ],
      "metadata": {
        "id": "FW5WOHAZu7YP"
      }
    },
    {
      "cell_type": "code",
      "source": [
        "word_tokenize(paragraph)\n"
      ],
      "metadata": {
        "colab": {
          "base_uri": "https://localhost:8080/"
        },
        "id": "IzR9xhTCtte-",
        "outputId": "79695458-aa75-4727-f736-4bfb57810c1e"
      },
      "execution_count": 25,
      "outputs": [
        {
          "output_type": "execute_result",
          "data": {
            "text/plain": [
              "['She',\n",
              " \"'s\",\n",
              " 'going',\n",
              " 'for',\n",
              " 'a',\n",
              " 'walk',\n",
              " '.',\n",
              " 'Jack',\n",
              " 'did',\n",
              " \"n't\",\n",
              " 'go',\n",
              " 'because',\n",
              " 'he',\n",
              " 'was',\n",
              " 'tired',\n",
              " '.',\n",
              " 'They',\n",
              " \"'d\",\n",
              " 'definitely',\n",
              " 'go',\n",
              " 'tonight',\n",
              " '.',\n",
              " 'I',\n",
              " \"'m\",\n",
              " 'sorry',\n",
              " ',',\n",
              " 'I',\n",
              " \"'ll\",\n",
              " 'be',\n",
              " 'late',\n",
              " '.',\n",
              " 'That',\n",
              " \"'s\",\n",
              " 'the',\n",
              " 'way',\n",
              " 'I',\n",
              " 'like',\n",
              " \"'em\",\n",
              " '!',\n",
              " '!']"
            ]
          },
          "metadata": {},
          "execution_count": 25
        }
      ]
    },
    {
      "cell_type": "code",
      "source": [
        "word_tokenize(strFixedParagraph)\n"
      ],
      "metadata": {
        "colab": {
          "base_uri": "https://localhost:8080/"
        },
        "id": "kU9wXOCztzPk",
        "outputId": "4e84b60e-b0a2-43bf-fe45-c105420e9fe4"
      },
      "execution_count": 26,
      "outputs": [
        {
          "output_type": "execute_result",
          "data": {
            "text/plain": [
              "['She',\n",
              " 'is',\n",
              " 'going',\n",
              " 'for',\n",
              " 'a',\n",
              " 'walk',\n",
              " '.',\n",
              " 'Jack',\n",
              " 'did',\n",
              " 'not',\n",
              " 'go',\n",
              " 'because',\n",
              " 'he',\n",
              " 'was',\n",
              " 'tired',\n",
              " '.',\n",
              " 'They',\n",
              " 'would',\n",
              " 'definitely',\n",
              " 'go',\n",
              " 'tonight',\n",
              " '.',\n",
              " 'I',\n",
              " 'am',\n",
              " 'sorry',\n",
              " ',',\n",
              " 'I',\n",
              " 'will',\n",
              " 'be',\n",
              " 'late',\n",
              " '.',\n",
              " 'That',\n",
              " 'is',\n",
              " 'the',\n",
              " 'way',\n",
              " 'I',\n",
              " 'like',\n",
              " 'them',\n",
              " '!',\n",
              " '!']"
            ]
          },
          "metadata": {},
          "execution_count": 26
        }
      ]
    }
  ]
}