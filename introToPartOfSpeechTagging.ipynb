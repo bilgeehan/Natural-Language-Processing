{
  "nbformat": 4,
  "nbformat_minor": 0,
  "metadata": {
    "colab": {
      "provenance": []
    },
    "kernelspec": {
      "name": "python3",
      "display_name": "Python 3"
    },
    "language_info": {
      "name": "python"
    },
    "accelerator": "GPU",
    "gpuClass": "standard"
  },
  "cells": [
    {
      "cell_type": "markdown",
      "source": [
        "**Introduction to Part of Speech Tagging**\n",
        "\n",
        "I used Punkt for tokenising sentences and averaged_perceptron_tagger for tagging words with their parts of speech (POS)"
      ],
      "metadata": {
        "id": "pwZnHzBjeGwW"
      }
    },
    {
      "cell_type": "code",
      "execution_count": null,
      "metadata": {
        "id": "-Af6x9G6D11r",
        "outputId": "066a05e6-d526-4d11-8302-7d073ca32e75",
        "colab": {
          "base_uri": "https://localhost:8080/"
        }
      },
      "outputs": [
        {
          "output_type": "stream",
          "name": "stderr",
          "text": [
            "[nltk_data] Downloading package punkt to /root/nltk_data...\n",
            "[nltk_data]   Package punkt is already up-to-date!\n",
            "[nltk_data] Downloading package averaged_perceptron_tagger to\n",
            "[nltk_data]     /root/nltk_data...\n",
            "[nltk_data]   Package averaged_perceptron_tagger is already up-to-\n",
            "[nltk_data]       date!\n"
          ]
        },
        {
          "output_type": "execute_result",
          "data": {
            "text/plain": [
              "True"
            ]
          },
          "metadata": {},
          "execution_count": 8
        }
      ],
      "source": [
        "import nltk\n",
        "nltk.download('punkt')\n",
        "nltk.download('averaged_perceptron_tagger')"
      ]
    },
    {
      "cell_type": "markdown",
      "source": [
        "I made a centence in there"
      ],
      "metadata": {
        "id": "Q-pbygmHh8ru"
      }
    },
    {
      "cell_type": "code",
      "source": [
        "newSentence=\"Footballer kicks the ball in the stadium\"\n"
      ],
      "metadata": {
        "id": "K1NLV1SmdO7U"
      },
      "execution_count": null,
      "outputs": []
    },
    {
      "cell_type": "markdown",
      "source": [
        "In the code here I split the sentence into its elements"
      ],
      "metadata": {
        "id": "6OxR4y_Qi3ZG"
      }
    },
    {
      "cell_type": "code",
      "source": [
        "token = nltk.word_tokenize(newSentence)\n",
        "print(token)"
      ],
      "metadata": {
        "colab": {
          "base_uri": "https://localhost:8080/"
        },
        "id": "geJ1piC8iydt",
        "outputId": "bf3d614d-da5d-4d2b-d478-1e8bef7201fd"
      },
      "execution_count": null,
      "outputs": [
        {
          "output_type": "stream",
          "name": "stdout",
          "text": [
            "['Footballer', 'kicks', 'the', 'ball', 'in', 'the', 'stadium']\n"
          ]
        }
      ]
    },
    {
      "cell_type": "markdown",
      "source": [
        "I made here POS Tagging"
      ],
      "metadata": {
        "id": "bcPOdLyAjqLi"
      }
    },
    {
      "cell_type": "code",
      "source": [
        "tags = nltk.pos_tag(token)\n",
        "print(tags)"
      ],
      "metadata": {
        "colab": {
          "base_uri": "https://localhost:8080/"
        },
        "id": "J6rx9d3hjohH",
        "outputId": "d4f45a8b-5134-4bfe-f3c4-8eddfdb03983"
      },
      "execution_count": null,
      "outputs": [
        {
          "output_type": "stream",
          "name": "stdout",
          "text": [
            "[('Footballer', 'NN'), ('kicks', 'VBZ'), ('the', 'DT'), ('ball', 'NN'), ('in', 'IN'), ('the', 'DT'), ('stadium', 'NN')]\n"
          ]
        }
      ]
    },
    {
      "cell_type": "markdown",
      "source": [
        "We can look the meanings of tags from [IBM Watson Resource For Part Of Speech](https://www.ibm.com/docs/en/wca/3.5.0?topic=analytics-part-speech-tag-sets)"
      ],
      "metadata": {
        "id": "gUcvwatpkAKR"
      }
    }
  ]
}